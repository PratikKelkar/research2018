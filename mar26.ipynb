{
 "cells": [
  {
   "cell_type": "code",
   "execution_count": 1,
   "metadata": {},
   "outputs": [],
   "source": [
    "import numpy as np\n",
    "from scipy.stats import pearsonr\n",
    "import heapq\n",
    "from heapq import heappush, heappop, heappushpop\n",
    "from sklearn.preprocessing import StandardScaler\n",
    "from sklearn.svm import LinearSVC\n",
    "import itertools\n",
    "import pickle"
   ]
  },
  {
   "cell_type": "code",
   "execution_count": 2,
   "metadata": {},
   "outputs": [],
   "source": [
    "all_data = np.load(\"all_data.npy\") #holds all the data from channels\n",
    "category_info = np.load(\"words_in_categories.npy\") #category_info[cat][ptr] returns the number of the word(0...62) of the ptr'th word in the category cat\n",
    "lengths = np.load(\"category_lengths.npy\") #lengths[cat] is the number of words in category cat"
   ]
  },
  {
   "cell_type": "code",
   "execution_count": 3,
   "metadata": {},
   "outputs": [],
   "source": [
    "total_words = 63 \n",
    "\n",
    "tStart = 0 #start time\n",
    "tEnd = 650 #end time\n",
    "tWidth = 100 #width of time slice\n",
    "tIncr = 50 #increment in start time\n",
    "tEx = 10 #number of examples to downsample to\n",
    "tNtoAvg = int(tWidth/tEx) #number of timestep values to average to form one example\n",
    "\n",
    "training_amt = 8 #8 examples for training, 2 for testing\n",
    "testing_amt = 10 - training_amt\n",
    "\n",
    "np.random.seed(63)"
   ]
  },
  {
   "cell_type": "code",
   "execution_count": 4,
   "metadata": {},
   "outputs": [],
   "source": [
    "TrainingData = np.zeros((total_words,5,training_amt,256,650))#gives the pertinent data from all_data for the two categories\n",
    "TestingData = np.zeros( (total_words,5,testing_amt,256,650)) #^\n",
    "wordptr = -1 #the index of the current word, iterates from 0...total_words\n",
    "for i in range(63):\n",
    "    wordptr+=1\n",
    "\n",
    "    excl = [-1]*10 #excl[j] = the j'th presentation number which should be saved for testing (e.g. excl[0] = 0 means the first presentation of the wordptr'th word should be saved for testing). Ignore -1's.\n",
    "    \n",
    "    for pres in range(testing_amt):\n",
    "        while(1): #this loop repeatedly generates a random presentation until one which hasn't been reserved for testing has been found, and then breaks it\n",
    "            nxtrand = np.random.randint(0,10)\n",
    "            if(excl[nxtrand]==-1):\n",
    "                excl[nxtrand]=nxtrand\n",
    "                break\n",
    "    for bandnum in range(5):\n",
    "        ptr2 = 0 #points to which presentation(0...9) of wordptr'th word we are currently copying to TrainingData\n",
    "        for pres in range(10):\n",
    "            if(excl[pres]!=-1): #if reserved for testing, don't include in training data\n",
    "                continue\n",
    "           \n",
    "            TrainingData[wordptr][bandnum][ptr2]=all_data[bandnum][i][pres] #sets the channel x time matrix for TrainingData[bandnum][wordptr][ptr2]\n",
    "            ptr2+=1 #move to next presentation\n",
    "\n",
    "    for bandnum in range(5): #this loop is same as above, except now we only want the testing presentations\n",
    "        ptr2=0\n",
    "        for pres in range(10):\n",
    "            if(excl[pres]==-1):\n",
    "                continue\n",
    "            TestingData[wordptr][bandnum][ptr2] = all_data[bandnum][i][excl[pres]]\n",
    "            ptr2+=1"
   ]
  },
  {
   "cell_type": "code",
   "execution_count": 5,
   "metadata": {},
   "outputs": [],
   "source": [
    "toSelect = 5 #number of top features to select\n",
    "\n",
    "train_feature_vectors = np.zeros((total_words, training_amt,toSelect * tEx))\n",
    "test_feature_vectors = np.zeros((total_words, testing_amt, toSelect * tEx))\n",
    "timeSequences = np.zeros((total_words,5,12,training_amt,256,tEx))\n",
    "testTimeSequences = np.zeros((total_words,5,12,testing_amt,256,tEx))"
   ]
  },
  {
   "cell_type": "code",
   "execution_count": 6,
   "metadata": {},
   "outputs": [
    {
     "name": "stdout",
     "output_type": "stream",
     "text": [
      "(5, 12, 256, 63, 8, 10)\n"
     ]
    }
   ],
   "source": [
    "time_pointer = 0\n",
    "for t in range(tStart, tEnd-tWidth+1, tIncr):\n",
    "    tEx_pointer = 0\n",
    "    for tEStart in range(t,t+tWidth-tEx+1,tNtoAvg):\n",
    "        timeSequences[:,:,time_pointer,:,:,tEx_pointer] = np.average(TrainingData[:,:,:,:,tEStart:tEStart+tNtoAvg], axis = 4)\n",
    "        testTimeSequences[:,:,time_pointer,:,:,tEx_pointer] = np.average(TestingData[:,:,:,:,tEStart:tEStart+tNtoAvg], axis=4)\n",
    "        tEx_pointer+=1\n",
    "    time_pointer+=1\n",
    "\n",
    "btcwpv_matrix = np.transpose(timeSequences, (1, 2, 4, 0, 3, 5)) #band,time,channel,word,pres,value matrix in that order\n",
    "btcwpv_matrix_test = np.transpose(testTimeSequences, (1,2,4,0,3,5))\n",
    "print(btcwpv_matrix.shape)"
   ]
  },
  {
   "cell_type": "code",
   "execution_count": 7,
   "metadata": {},
   "outputs": [],
   "source": [
    "from sklearn.preprocessing import MinMaxScaler\n",
    "\n",
    "def get_train_matrices(band, time, channel, cat1, cat2):\n",
    "    #btcwpv_matrix\n",
    "    #btcwpv_matrix_test\n",
    "    final_matrix_x = np.zeros((int(2*training_amt*(lengths[cat1][0]+lengths[cat2][0])),10))\n",
    "    final_matrix_y = np.zeros((int(2*training_amt*(lengths[cat1][0]+lengths[cat2][0])),))\n",
    "    rowptr = 0\n",
    "    for pres in range(training_amt):\n",
    "        for word in category_info[cat1]:\n",
    "            if(word!=-1):\n",
    "                final_matrix_x[rowptr,:] = btcwpv_matrix[band,time,channel,word,pres,:]\n",
    "                final_matrix_y[rowptr] = 0\n",
    "                rowptr+=1\n",
    "        for word in category_info[cat2]:\n",
    "            if(word!=-1):\n",
    "                final_matrix_x[rowptr,:] = btcwpv_matrix[band,time,channel,word,pres,:]\n",
    "                final_matrix_y[rowptr] = 1\n",
    "                rowptr+=1\n",
    "    return (final_matrix_x,final_matrix_y)\n",
    "\n",
    "def get_test_matrices(band, time, channel, cat1, cat2):\n",
    "    #btcwpv_matrix\n",
    "    #btcwpv_matrix_test\n",
    "    final_matrix_x = np.zeros((int(2*testing_amt*(lengths[cat1][0]+lengths[cat2][0])),10))\n",
    "    final_matrix_y = np.zeros((int(2*testing_amt*(lengths[cat1][0]+lengths[cat2][0])),))\n",
    "    rowptr = 0\n",
    "    for pres in range(testing_amt):\n",
    "        for word in category_info[cat1]:\n",
    "            if(word!=-1):\n",
    "                final_matrix_x[rowptr,:] = btcwpv_matrix_test[band,time,channel,word,pres,:]\n",
    "                final_matrix_y[rowptr] = 0\n",
    "                rowptr+=1\n",
    "        for word in category_info[cat2]:\n",
    "            if(word!=-1):\n",
    "                final_matrix_x[rowptr,:] = btcwpv_matrix_test[band,time,channel,word,pres,:]\n",
    "                final_matrix_y[rowptr] = 1\n",
    "                rowptr+=1\n",
    "    return (final_matrix_x,final_matrix_y)\n",
    "\n",
    "\n",
    "def get_acc(trainx_matrix, trainy_matrix):\n",
    "    #ADD CODE HERE\n",
    "    #run 4 fold cross validation to get accuracy\n",
    "    #C = 1 should be fixed\n",
    "    #for each fold, apply MinMaxScaler to training data \n",
    "    #fit linear svm\n",
    "    foldlen = 2*training_amt/4\n",
    "    avgscore = 0\n",
    "    for fold in range(4):\n",
    "        mytrainx = np.concatenate((trainx_matrix[:int(fold*foldlen)], trainx_matrix[int((fold+1)*foldlen):]),axis=0)\n",
    "        mytrainy = np.concatenate((trainy_matrix[:int(fold*foldlen)], trainy_matrix[int((fold+1)*foldlen):]),axis=0)\n",
    "        mytestx = trainx_matrix[int(fold*foldlen):int((fold+1)*foldlen)]\n",
    "        mytesty = trainy_matrix[int(fold*foldlen):int((fold+1)*foldlen)]\n",
    "\n",
    "        scaler = MinMaxScaler(feature_range=(0,1))\n",
    "        mytrainx = scaler.fit_transform(mytrainx)\n",
    "        mytestx = scaler.transform(mytestx)\n",
    "\n",
    "        clf = LinearSVC(C = 1, random_state = 63)\n",
    "        clf.fit(mytrainx, mytrainy)\n",
    "        score = clf.score(mytestx,mytesty)\n",
    "        avgscore+=score\n",
    "    avgscore/=4\n",
    "    \n",
    "    return avgscore\n",
    "    \n",
    "\n",
    "def hill_climb(cat1, cat2):\n",
    "#     print((int((2*training_amt*(lengths[cat1][0]+lengths[cat2][0])))))\n",
    "#     print(np.zeros((176,0)))\n",
    "    current_train_matrix = np.zeros((int(2*training_amt*(lengths[cat1][0]+lengths[cat2][0])),0))\n",
    "    current_test_matrix = np.zeros((int(2*testing_amt*(lengths[cat1][0]+lengths[cat2][0])),0))\n",
    "\n",
    "    \n",
    "    \n",
    "    trainy = get_train_matrices(0,0,0,cat1,cat2)[1]\n",
    "    testy = get_test_matrices(0,0,0,cat1,cat2)[1]\n",
    "    \n",
    "    btc_count = 6\n",
    "    seen = {}\n",
    "#     for iteration in range(btc_count):\n",
    "    for iteration in range(1):\n",
    "        besto = (0,0,0,0)\n",
    "        for band in range(5):\n",
    "            for time in range(12):\n",
    "                for channel in range(256): \n",
    "                    if channel==0:\n",
    "                        print(seen)\n",
    "                    if (band, time, channel) in seen: \n",
    "                        print(\"already picked\", band, time, channel)\n",
    "                    else:\n",
    "                        newmatrixtrain = np.concatenate((current_train_matrix,get_train_matrices(band,time,channel,cat1,cat2)[0]), axis = 1)\n",
    "                        newmatrixtest = np.concatenate((current_test_matrix,get_test_matrices(band,time,channel,cat1,cat2)[0]), axis = 1)\n",
    "\n",
    "                        thisacc = get_acc(newmatrixtrain,trainy)\n",
    "                        besto = max(besto, (thisacc,band,time,channel))\n",
    "        print(besto)\n",
    "\n",
    "        seen[(besto[1],besto[2],besto[3])]=True\n",
    "        current_train_matrix = np.concatenate((current_train_matrix,get_train_matrices(besto[1],besto[2],besto[3],cat1,cat2)[0]), axis = 1)\n",
    "        current_test_matrix = np.concatenate((current_test_matrix,get_test_matrices(besto[1],besto[2],besto[3],cat1,cat2)[0]), axis = 1)\n",
    "        print(\"chose \" + str(besto[1]) + \" \" + str(besto[2]) + \" \" + str(besto[3]))\n",
    "    return (current_train_matrix,trainy,current_test_matrix,testy)\n",
    "    \n",
    "    \n",
    "\n",
    "#ADD CODE HERE to scale data, fit linear svm to training data, test on test data, and output accuracy\n",
    "\n",
    "\n",
    "\n"
   ]
  },
  {
   "cell_type": "code",
   "execution_count": 8,
   "metadata": {},
   "outputs": [
    {
     "name": "stdout",
     "output_type": "stream",
     "text": [
      "{}\n",
      "{}\n",
      "{}\n",
      "{}\n",
      "{}\n",
      "{}\n",
      "{}\n",
      "{}\n",
      "{}\n",
      "{}\n",
      "{}\n",
      "{}\n",
      "{}\n",
      "{}\n",
      "{}\n",
      "{}\n",
      "{}\n",
      "{}\n",
      "{}\n",
      "{}\n",
      "{}\n",
      "{}\n",
      "{}\n",
      "{}\n",
      "{}\n",
      "{}\n",
      "{}\n",
      "{}\n",
      "{}\n",
      "{}\n",
      "{}\n",
      "{}\n",
      "{}\n",
      "{}\n",
      "{}\n",
      "{}\n",
      "{}\n",
      "{}\n",
      "{}\n",
      "{}\n",
      "{}\n",
      "{}\n",
      "{}\n",
      "{}\n",
      "{}\n",
      "{}\n",
      "{}\n",
      "{}\n",
      "{}\n",
      "{}\n",
      "{}\n",
      "{}\n",
      "{}\n",
      "{}\n",
      "{}\n",
      "{}\n",
      "{}\n",
      "{}\n",
      "{}\n",
      "{}\n",
      "(0.875, 3, 6, 223)\n",
      "chose 3 6 223\n"
     ]
    }
   ],
   "source": [
    "(trainx,trainy,testx,testy) = hill_climb(0,1)"
   ]
  },
  {
   "cell_type": "code",
   "execution_count": 28,
   "metadata": {},
   "outputs": [
    {
     "data": {
      "text/plain": [
       "(220,)"
      ]
     },
     "execution_count": 28,
     "metadata": {},
     "output_type": "execute_result"
    }
   ],
   "source": [
    "np.count_nonzero(np.concatenate((trainy,testy)))\n",
    "np.concatenate((trainy,testy)).shape"
   ]
  },
  {
   "cell_type": "code",
   "execution_count": 87,
   "metadata": {},
   "outputs": [],
   "source": [
    "scaler = MinMaxScaler(feature_range=(0,1))\n",
    "trainx = scaler.fit_transform(trainx)\n",
    "testx = scaler.transform(testx)\n",
    "clf = LinearSVC(C = 1, random_state = 63)\n",
    "clf.fit(trainx, trainy)\n",
    "final_score = clf.score(testx,testy)"
   ]
  },
  {
   "cell_type": "code",
   "execution_count": 88,
   "metadata": {},
   "outputs": [
    {
     "data": {
      "text/plain": [
       "0.79545454545454541"
      ]
     },
     "execution_count": 88,
     "metadata": {},
     "output_type": "execute_result"
    }
   ],
   "source": [
    "final_score"
   ]
  },
  {
   "cell_type": "code",
   "execution_count": null,
   "metadata": {},
   "outputs": [],
   "source": []
  }
 ],
 "metadata": {
  "kernelspec": {
   "display_name": "Python 3",
   "language": "python",
   "name": "python3"
  },
  "language_info": {
   "codemirror_mode": {
    "name": "ipython",
    "version": 3
   },
   "file_extension": ".py",
   "mimetype": "text/x-python",
   "name": "python",
   "nbconvert_exporter": "python",
   "pygments_lexer": "ipython3",
   "version": "3.5.3"
  }
 },
 "nbformat": 4,
 "nbformat_minor": 2
}
